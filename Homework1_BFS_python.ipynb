{
  "nbformat": 4,
  "nbformat_minor": 0,
  "metadata": {
    "colab": {
      "name": "Homework1 BFS: python.ipynb",
      "provenance": [],
      "authorship_tag": "ABX9TyP+Ir8VcLz9PvFTwXlJLqnm",
      "include_colab_link": true
    },
    "kernelspec": {
      "name": "python3",
      "display_name": "Python 3"
    },
    "language_info": {
      "name": "python"
    }
  },
  "cells": [
    {
      "cell_type": "markdown",
      "metadata": {
        "id": "view-in-github",
        "colab_type": "text"
      },
      "source": [
        "<a href=\"https://colab.research.google.com/github/Napatx28/Intro-to-Vue-3/blob/master/Homework1_BFS_python.ipynb\" target=\"_parent\"><img src=\"https://colab.research.google.com/assets/colab-badge.svg\" alt=\"Open In Colab\"/></a>"
      ]
    },
    {
      "cell_type": "code",
      "execution_count": 4,
      "metadata": {
        "colab": {
          "base_uri": "https://localhost:8080/"
        },
        "id": "VYqDF4ifXN2S",
        "outputId": "abe7b5e3-271e-4e3d-aa54-d7ef82320914"
      },
      "outputs": [
        {
          "output_type": "stream",
          "name": "stdout",
          "text": [
            "Input initial Node: 5\n",
            "Input Final Node: 8\n",
            "5 -> 3 -> 7 -> 2 -> 4 -> 8\n",
            "--------------------\n",
            "Input initial Node: 4\n",
            "Input Final Node: 3\n",
            "No path start from node 4 to 3.\n",
            "--------------------\n",
            "Input initial Node: 0\n",
            "Input Final Node: 0\n",
            "***Exit***\n"
          ]
        }
      ],
      "source": [
        "def bfs(graph, node, final):\n",
        "  if node not in graph or final not in graph:\n",
        "    return \"Not Have Node in Graph\"\n",
        "  visited = []\n",
        "  queue = []\n",
        "  visited.append(node)\n",
        "  queue.append(node)\n",
        "\n",
        "  while queue:\n",
        "    select = queue.pop(0)\n",
        "    for neighbour in graph[select]:\n",
        "      if neighbour not in visited:\n",
        "        visited.append(neighbour)\n",
        "        queue.append(neighbour)\n",
        "        if final == neighbour:\n",
        "          return \" -> \".join(visited)\n",
        "        \n",
        "  if final not in visited:\n",
        "    return \"No path start from node \" + node + \" to \" + final + \".\" \n",
        "  return \" -> \".join(visited)\n",
        "\n",
        "  graph = {\n",
        "  '5' : ['3', '7'],\n",
        "  '3' : ['2','4'],\n",
        "  '7' : ['8'],\n",
        "  '2' : [],\n",
        "  '4' : ['8'],\n",
        "  '8' : [],\n",
        "}\n",
        "\n",
        "while(True):\n",
        "  node = str(input(\"Input initial Node: \"))\n",
        "  final = str(input(\"Input Final Node: \"))\n",
        "  if node == '0' or final == '0':\n",
        "    print(\"***Exit***\")\n",
        "    break\n",
        "  else:\n",
        "    print(bfs(graph, node, final))\n",
        "    print(\"-\"*20)"
      ]
    }
  ]
}