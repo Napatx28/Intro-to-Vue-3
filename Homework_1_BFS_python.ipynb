{
  "nbformat": 4,
  "nbformat_minor": 0,
  "metadata": {
    "colab": {
      "name": "Homework_1 BFS: python.ipynb",
      "provenance": [],
      "authorship_tag": "ABX9TyPHvR53JwkNAznNFt6wlnzt",
      "include_colab_link": true
    },
    "kernelspec": {
      "name": "python3",
      "display_name": "Python 3"
    },
    "language_info": {
      "name": "python"
    }
  },
  "cells": [
    {
      "cell_type": "markdown",
      "metadata": {
        "id": "view-in-github",
        "colab_type": "text"
      },
      "source": [
        "<a href=\"https://colab.research.google.com/github/Napatx28/Intro-to-Vue-3/blob/master/Homework_1_BFS_python.ipynb\" target=\"_parent\"><img src=\"https://colab.research.google.com/assets/colab-badge.svg\" alt=\"Open In Colab\"/></a>"
      ]
    },
    {
      "cell_type": "code",
      "execution_count": 1,
      "metadata": {
        "colab": {
          "base_uri": "https://localhost:8080/"
        },
        "id": "IiXrzEFYY-Pl",
        "outputId": "0e87d905-f694-4710-fb00-4303ed92736e"
      },
      "outputs": [
        {
          "output_type": "stream",
          "name": "stdout",
          "text": [
            "Input initial Node: 5\n",
            "Input Final Node: 8\n",
            "5 -> 3 -> 7 -> 2 -> 4 -> 8\n",
            "--------------------\n",
            "Input initial Node: 4\n",
            "Input Final Node: 3\n",
            "No path start from node 4 to 3.\n",
            "--------------------\n",
            "Input initial Node: 0\n",
            "Input Final Node: 0\n",
            "***Exit***\n"
          ]
        }
      ],
      "source": [
        "def bfs( graph , initial, final):\n",
        "\n",
        "  visited = [] \n",
        "  queue = []\n",
        "  visited.append(initial)\n",
        "  queue.append(initial)\n",
        "\n",
        "\n",
        "  while queue:\n",
        "    s = queue.pop(0)\n",
        "\n",
        "    for neighbour in graph[s]: \n",
        "\n",
        "      if neighbour not in visited:\n",
        "\n",
        "        visited.append(neighbour)\n",
        "\n",
        "        queue.append(neighbour)\n",
        "\n",
        "        if final == neighbour :\n",
        "\n",
        "         return \" -> \".join(visited)\n",
        "\n",
        "  if final not in visited:\n",
        "\n",
        "     return \"No path start from node \" + node + \" to \" + final + \".\" \n",
        "\n",
        "  return \" -> \".join(visited)\n",
        "\n",
        "\n",
        "graph = {\n",
        "\n",
        "  '5' : ['3','7'],\n",
        "\n",
        "  '3' : ['2','4'],\n",
        "\n",
        "  '7' : ['8'],\n",
        "\n",
        "  '2' : [ ],\n",
        "\n",
        "  '4' : ['8'],\n",
        "\n",
        "  '8' : [ ],\n",
        "\n",
        "}\n",
        "\n",
        "while(True):\n",
        "\n",
        "  node = str(input(\"Input initial Node: \"))\n",
        "\n",
        "  final = str(input(\"Input Final Node: \"))\n",
        "\n",
        "  if node == '0' or final == '0':\n",
        "\n",
        "    print(\"***Exit***\")\n",
        "\n",
        "    break\n",
        "\n",
        "  else:\n",
        "\n",
        "    #print(bfs(visited, graph ,initial, final))\n",
        "\n",
        "    print(bfs(graph, node, final))\n",
        "    \n",
        "    print(\"-\"*20)\n",
        "\n",
        "#initial = input(\"Input initial Node :\")\n",
        "\n",
        "#final = input(\"Input Final Node :\")\n",
        "\n",
        "\n",
        "\n"
      ]
    }
  ]
}